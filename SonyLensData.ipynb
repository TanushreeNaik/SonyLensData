{
 "cells": [
  {
   "cell_type": "code",
   "execution_count": 1,
   "metadata": {},
   "outputs": [],
   "source": [
    "import pandas as pd\n",
    "import seaborn as sns\n",
    "import numpy as np\n",
    "import matplotlib.pyplot as plt"
   ]
  },
  {
   "cell_type": "code",
   "execution_count": 2,
   "metadata": {},
   "outputs": [],
   "source": [
    "lenses = pd.read_csv('SonyLensData-priced.csv', skiprows = [0,1])"
   ]
  },
  {
   "cell_type": "code",
   "execution_count": 3,
   "metadata": {},
   "outputs": [
    {
     "data": {
      "text/html": [
       "<div>\n",
       "<style>\n",
       "    .dataframe thead tr:only-child th {\n",
       "        text-align: right;\n",
       "    }\n",
       "\n",
       "    .dataframe thead th {\n",
       "        text-align: left;\n",
       "    }\n",
       "\n",
       "    .dataframe tbody tr th {\n",
       "        vertical-align: top;\n",
       "    }\n",
       "</style>\n",
       "<table border=\"1\" class=\"dataframe\">\n",
       "  <thead>\n",
       "    <tr style=\"text-align: right;\">\n",
       "      <th></th>\n",
       "      <th>Mount</th>\n",
       "      <th>Brand</th>\n",
       "      <th>Range</th>\n",
       "      <th>Focal Length</th>\n",
       "      <th>Aperture</th>\n",
       "      <th>Retail</th>\n",
       "      <th>Notes</th>\n",
       "    </tr>\n",
       "  </thead>\n",
       "  <tbody>\n",
       "    <tr>\n",
       "      <th>0</th>\n",
       "      <td>FE</td>\n",
       "      <td>Sony</td>\n",
       "      <td>28mm f/2</td>\n",
       "      <td>28mm</td>\n",
       "      <td>2.0</td>\n",
       "      <td>448</td>\n",
       "      <td>adaptors: fisheye $298, 21mm $248</td>\n",
       "    </tr>\n",
       "    <tr>\n",
       "      <th>1</th>\n",
       "      <td>FE</td>\n",
       "      <td>Sony</td>\n",
       "      <td>50mm f/1.8</td>\n",
       "      <td>50mm</td>\n",
       "      <td>1.8</td>\n",
       "      <td>248</td>\n",
       "      <td>NaN</td>\n",
       "    </tr>\n",
       "    <tr>\n",
       "      <th>2</th>\n",
       "      <td>FE</td>\n",
       "      <td>Sony</td>\n",
       "      <td>50mm f/2.8</td>\n",
       "      <td>50mm</td>\n",
       "      <td>2.8</td>\n",
       "      <td>498</td>\n",
       "      <td>macro</td>\n",
       "    </tr>\n",
       "    <tr>\n",
       "      <th>3</th>\n",
       "      <td>FE</td>\n",
       "      <td>Sony</td>\n",
       "      <td>85mm f/1.8</td>\n",
       "      <td>85mm</td>\n",
       "      <td>1.8</td>\n",
       "      <td>598</td>\n",
       "      <td>NaN</td>\n",
       "    </tr>\n",
       "    <tr>\n",
       "      <th>4</th>\n",
       "      <td>FE</td>\n",
       "      <td>Sony G</td>\n",
       "      <td>90mm f/2.8</td>\n",
       "      <td>90mm</td>\n",
       "      <td>2.8</td>\n",
       "      <td>1098</td>\n",
       "      <td>macro</td>\n",
       "    </tr>\n",
       "  </tbody>\n",
       "</table>\n",
       "</div>"
      ],
      "text/plain": [
       "  Mount   Brand       Range Focal Length  Aperture  Retail  \\\n",
       "0    FE    Sony    28mm f/2         28mm       2.0     448   \n",
       "1    FE    Sony  50mm f/1.8         50mm       1.8     248   \n",
       "2    FE    Sony  50mm f/2.8         50mm       2.8     498   \n",
       "3    FE    Sony  85mm f/1.8         85mm       1.8     598   \n",
       "4    FE  Sony G  90mm f/2.8         90mm       2.8    1098   \n",
       "\n",
       "                               Notes  \n",
       "0  adaptors: fisheye $298, 21mm $248  \n",
       "1                                NaN  \n",
       "2                              macro  \n",
       "3                                NaN  \n",
       "4                              macro  "
      ]
     },
     "execution_count": 3,
     "metadata": {},
     "output_type": "execute_result"
    }
   ],
   "source": [
    "lenses.head()"
   ]
  },
  {
   "cell_type": "code",
   "execution_count": 4,
   "metadata": {},
   "outputs": [],
   "source": [
    "lenses['Focal Length'] = lenses['Focal Length'].astype(str)\n",
    "lenses['Focal Length'] = lenses['Focal Length'].str[:-2]\n",
    "lenses['Focal Length'] = lenses['Focal Length'].astype(float)"
   ]
  },
  {
   "cell_type": "code",
   "execution_count": 5,
   "metadata": {},
   "outputs": [
    {
     "data": {
      "text/html": [
       "<div>\n",
       "<style>\n",
       "    .dataframe thead tr:only-child th {\n",
       "        text-align: right;\n",
       "    }\n",
       "\n",
       "    .dataframe thead th {\n",
       "        text-align: left;\n",
       "    }\n",
       "\n",
       "    .dataframe tbody tr th {\n",
       "        vertical-align: top;\n",
       "    }\n",
       "</style>\n",
       "<table border=\"1\" class=\"dataframe\">\n",
       "  <thead>\n",
       "    <tr style=\"text-align: right;\">\n",
       "      <th></th>\n",
       "      <th>Mount</th>\n",
       "      <th>Brand</th>\n",
       "      <th>Range</th>\n",
       "      <th>Focal Length</th>\n",
       "      <th>Aperture</th>\n",
       "      <th>Retail</th>\n",
       "      <th>Notes</th>\n",
       "    </tr>\n",
       "  </thead>\n",
       "  <tbody>\n",
       "    <tr>\n",
       "      <th>0</th>\n",
       "      <td>FE</td>\n",
       "      <td>Sony</td>\n",
       "      <td>28mm f/2</td>\n",
       "      <td>28.0</td>\n",
       "      <td>2.0</td>\n",
       "      <td>448</td>\n",
       "      <td>adaptors: fisheye $298, 21mm $248</td>\n",
       "    </tr>\n",
       "    <tr>\n",
       "      <th>1</th>\n",
       "      <td>FE</td>\n",
       "      <td>Sony</td>\n",
       "      <td>50mm f/1.8</td>\n",
       "      <td>50.0</td>\n",
       "      <td>1.8</td>\n",
       "      <td>248</td>\n",
       "      <td>NaN</td>\n",
       "    </tr>\n",
       "    <tr>\n",
       "      <th>2</th>\n",
       "      <td>FE</td>\n",
       "      <td>Sony</td>\n",
       "      <td>50mm f/2.8</td>\n",
       "      <td>50.0</td>\n",
       "      <td>2.8</td>\n",
       "      <td>498</td>\n",
       "      <td>macro</td>\n",
       "    </tr>\n",
       "    <tr>\n",
       "      <th>3</th>\n",
       "      <td>FE</td>\n",
       "      <td>Sony</td>\n",
       "      <td>85mm f/1.8</td>\n",
       "      <td>85.0</td>\n",
       "      <td>1.8</td>\n",
       "      <td>598</td>\n",
       "      <td>NaN</td>\n",
       "    </tr>\n",
       "    <tr>\n",
       "      <th>4</th>\n",
       "      <td>FE</td>\n",
       "      <td>Sony G</td>\n",
       "      <td>90mm f/2.8</td>\n",
       "      <td>90.0</td>\n",
       "      <td>2.8</td>\n",
       "      <td>1098</td>\n",
       "      <td>macro</td>\n",
       "    </tr>\n",
       "  </tbody>\n",
       "</table>\n",
       "</div>"
      ],
      "text/plain": [
       "  Mount   Brand       Range  Focal Length  Aperture  Retail  \\\n",
       "0    FE    Sony    28mm f/2          28.0       2.0     448   \n",
       "1    FE    Sony  50mm f/1.8          50.0       1.8     248   \n",
       "2    FE    Sony  50mm f/2.8          50.0       2.8     498   \n",
       "3    FE    Sony  85mm f/1.8          85.0       1.8     598   \n",
       "4    FE  Sony G  90mm f/2.8          90.0       2.8    1098   \n",
       "\n",
       "                               Notes  \n",
       "0  adaptors: fisheye $298, 21mm $248  \n",
       "1                                NaN  \n",
       "2                              macro  \n",
       "3                                NaN  \n",
       "4                              macro  "
      ]
     },
     "execution_count": 5,
     "metadata": {},
     "output_type": "execute_result"
    }
   ],
   "source": [
    "lenses.head()"
   ]
  },
  {
   "cell_type": "code",
   "execution_count": 6,
   "metadata": {},
   "outputs": [],
   "source": [
    "lenses['Range'] = lenses['Range'].str[0:2]\n",
    "lenses['Range'] = lenses['Range'].astype(int)"
   ]
  },
  {
   "cell_type": "code",
   "execution_count": 7,
   "metadata": {},
   "outputs": [
    {
     "data": {
      "text/html": [
       "<div>\n",
       "<style>\n",
       "    .dataframe thead tr:only-child th {\n",
       "        text-align: right;\n",
       "    }\n",
       "\n",
       "    .dataframe thead th {\n",
       "        text-align: left;\n",
       "    }\n",
       "\n",
       "    .dataframe tbody tr th {\n",
       "        vertical-align: top;\n",
       "    }\n",
       "</style>\n",
       "<table border=\"1\" class=\"dataframe\">\n",
       "  <thead>\n",
       "    <tr style=\"text-align: right;\">\n",
       "      <th></th>\n",
       "      <th>Mount</th>\n",
       "      <th>Brand</th>\n",
       "      <th>Range</th>\n",
       "      <th>Focal Length</th>\n",
       "      <th>Aperture</th>\n",
       "      <th>Retail</th>\n",
       "      <th>Notes</th>\n",
       "    </tr>\n",
       "  </thead>\n",
       "  <tbody>\n",
       "    <tr>\n",
       "      <th>0</th>\n",
       "      <td>FE</td>\n",
       "      <td>Sony</td>\n",
       "      <td>28</td>\n",
       "      <td>28.0</td>\n",
       "      <td>2.0</td>\n",
       "      <td>448</td>\n",
       "      <td>adaptors: fisheye $298, 21mm $248</td>\n",
       "    </tr>\n",
       "    <tr>\n",
       "      <th>1</th>\n",
       "      <td>FE</td>\n",
       "      <td>Sony</td>\n",
       "      <td>50</td>\n",
       "      <td>50.0</td>\n",
       "      <td>1.8</td>\n",
       "      <td>248</td>\n",
       "      <td>NaN</td>\n",
       "    </tr>\n",
       "    <tr>\n",
       "      <th>2</th>\n",
       "      <td>FE</td>\n",
       "      <td>Sony</td>\n",
       "      <td>50</td>\n",
       "      <td>50.0</td>\n",
       "      <td>2.8</td>\n",
       "      <td>498</td>\n",
       "      <td>macro</td>\n",
       "    </tr>\n",
       "    <tr>\n",
       "      <th>3</th>\n",
       "      <td>FE</td>\n",
       "      <td>Sony</td>\n",
       "      <td>85</td>\n",
       "      <td>85.0</td>\n",
       "      <td>1.8</td>\n",
       "      <td>598</td>\n",
       "      <td>NaN</td>\n",
       "    </tr>\n",
       "    <tr>\n",
       "      <th>4</th>\n",
       "      <td>FE</td>\n",
       "      <td>Sony G</td>\n",
       "      <td>90</td>\n",
       "      <td>90.0</td>\n",
       "      <td>2.8</td>\n",
       "      <td>1098</td>\n",
       "      <td>macro</td>\n",
       "    </tr>\n",
       "  </tbody>\n",
       "</table>\n",
       "</div>"
      ],
      "text/plain": [
       "  Mount   Brand  Range  Focal Length  Aperture  Retail  \\\n",
       "0    FE    Sony     28          28.0       2.0     448   \n",
       "1    FE    Sony     50          50.0       1.8     248   \n",
       "2    FE    Sony     50          50.0       2.8     498   \n",
       "3    FE    Sony     85          85.0       1.8     598   \n",
       "4    FE  Sony G     90          90.0       2.8    1098   \n",
       "\n",
       "                               Notes  \n",
       "0  adaptors: fisheye $298, 21mm $248  \n",
       "1                                NaN  \n",
       "2                              macro  \n",
       "3                                NaN  \n",
       "4                              macro  "
      ]
     },
     "execution_count": 7,
     "metadata": {},
     "output_type": "execute_result"
    }
   ],
   "source": [
    "lenses.head()"
   ]
  },
  {
   "cell_type": "code",
   "execution_count": 8,
   "metadata": {},
   "outputs": [
    {
     "name": "stdout",
     "output_type": "stream",
     "text": [
      "<class 'pandas.core.frame.DataFrame'>\n",
      "RangeIndex: 45 entries, 0 to 44\n",
      "Data columns (total 7 columns):\n",
      "Mount           45 non-null object\n",
      "Brand           45 non-null object\n",
      "Range           45 non-null int64\n",
      "Focal Length    45 non-null float64\n",
      "Aperture        45 non-null float64\n",
      "Retail          45 non-null int64\n",
      "Notes           15 non-null object\n",
      "dtypes: float64(2), int64(2), object(3)\n",
      "memory usage: 2.5+ KB\n"
     ]
    }
   ],
   "source": [
    "lenses.info()"
   ]
  },
  {
   "cell_type": "code",
   "execution_count": 9,
   "metadata": {},
   "outputs": [],
   "source": [
    "lenses['Retail'] = lenses['Retail'].astype(str)\n",
    "lenses.loc[lenses['Retail'] == 'TBD', 'Retail'] = np.nan\n",
    "lenses['Retail'] = lenses['Retail'].astype(float)\n",
    "lenses['Retail'] = lenses['Retail'].astype(int)"
   ]
  },
  {
   "cell_type": "code",
   "execution_count": 10,
   "metadata": {},
   "outputs": [
    {
     "name": "stdout",
     "output_type": "stream",
     "text": [
      "<class 'pandas.core.frame.DataFrame'>\n",
      "RangeIndex: 45 entries, 0 to 44\n",
      "Data columns (total 7 columns):\n",
      "Mount           45 non-null object\n",
      "Brand           45 non-null object\n",
      "Range           45 non-null int64\n",
      "Focal Length    45 non-null float64\n",
      "Aperture        45 non-null float64\n",
      "Retail          45 non-null int64\n",
      "Notes           15 non-null object\n",
      "dtypes: float64(2), int64(2), object(3)\n",
      "memory usage: 2.5+ KB\n"
     ]
    }
   ],
   "source": [
    "lenses.info()"
   ]
  },
  {
   "cell_type": "code",
   "execution_count": 11,
   "metadata": {},
   "outputs": [],
   "source": [
    "#sns.set()\n",
    "% matplotlib inline"
   ]
  },
  {
   "cell_type": "code",
   "execution_count": 12,
   "metadata": {},
   "outputs": [
    {
     "data": {
      "image/png": "[encoded data removed]",
      "text/plain": [
       "<matplotlib.figure.Figure at 0x7f4c69ba4438>"
      ]
     },
     "metadata": {},
     "output_type": "display_data"
    }
   ],
   "source": [
    "# Set style of scatterplot\n",
    "sns.set_context(\"notebook\", font_scale=1.1)\n",
    "sns.set_style(\"ticks\")\n",
    "\n",
    "# Create scatterplot of dataframe\n",
    "sns.lmplot('Focal Length', # Horizontal axis\n",
    "           'Aperture', # Vertical axis\n",
    "           data=lenses, # Data source\n",
    "           fit_reg=False, # Don't fix a regression line\n",
    "           hue = 'Brand',\n",
    "           scatter_kws={\"marker\": \"D\", 's':100}) # S marker size\n",
    "\n",
    "# Set title\n",
    "plt.title('Sony lenses')\n",
    "\n",
    "# Set x-axis label\n",
    "plt.xlabel('Focal Length')\n",
    "\n",
    "# Set y-axis label\n",
    "plt.ylabel('Aperture')\n",
    "\n",
    "plt.xscale('log')"
   ]
  },
  {
   "cell_type": "code",
   "execution_count": 14,
   "metadata": {},
   "outputs": [
    {
     "name": "stdout",
     "output_type": "stream",
     "text": [
      "   Mount          Brand  Range  Focal Length  Aperture  Retail  \\\n",
      "0     FE           Sony     28          28.0       2.0     448   \n",
      "1     FE           Sony     50          50.0       1.8     248   \n",
      "2     FE           Sony     50          50.0       2.8     498   \n",
      "3     FE           Sony     85          85.0       1.8     598   \n",
      "4     FE         Sony G     90          90.0       2.8    1098   \n",
      "5     FE  Sony G Master     85          85.0       1.4    1798   \n",
      "6     FE  Sony G Master     10         100.0       2.8    1498   \n",
      "7     FE  Sony G Master     40         400.0       2.8   11998   \n",
      "8     FE     Sony Zeiss     35          35.0       1.4    1598   \n",
      "9     FE     Sony Zeiss     35          35.0       2.8     798   \n",
      "10    FE     Sony Zeiss     50          50.0       1.4    1498   \n",
      "11    FE     Sony Zeiss     55          55.0       1.8     998   \n",
      "12    FE    Zeiss Batis     18          18.0       2.8    1499   \n",
      "13    FE    Zeiss Batis     25          25.0       2.0    1299   \n",
      "14    FE    Zeiss Batis     85          85.0       1.8    1199   \n",
      "15    FE    Zeiss Batis     13         135.0       2.8    1999   \n",
      "16    FE        Rokinon     14          14.0       2.8     849   \n",
      "17    FE        Rokinon     24          24.0       2.8     399   \n",
      "18    FE        Rokinon     35          35.0       1.4     799   \n",
      "19    FE        Rokinon     35          35.0       2.8     399   \n",
      "20    FE        Rokinon     50          50.0       1.4     699   \n",
      "21    FE          Sigma     14          14.0       1.8    1599   \n",
      "22    FE          Sigma     20          20.0       1.4     899   \n",
      "23    FE          Sigma     24          24.0       1.4     849   \n",
      "24    FE          Sigma     35          35.0       1.4     899   \n",
      "25    FE          Sigma     50          50.0       1.4     949   \n",
      "26    FE          Sigma     70          70.0       2.8    1599   \n",
      "27    FE          Sigma     85          85.0       1.4    1199   \n",
      "28    FE          Sigma     10         105.0       1.4    1099   \n",
      "29    FE          Sigma     13         135.0       1.8    1399   \n",
      "30    FE   Tokina Firin     20          20.0       2.0     599   \n",
      "31     E           Sony     16          16.0       2.8     248   \n",
      "32     E           Sony     20          20.0       2.8     348   \n",
      "33     E           Sony     30          30.0       3.5     278   \n",
      "34     E           Sony     35          35.0       1.8     448   \n",
      "35     E           Sony     50          50.0       1.8     298   \n",
      "36     E     Sony Zeiss     24          24.0       1.8    1098   \n",
      "37     E    Zeiss Touit     12          12.0       2.8     999   \n",
      "38     E    Zeiss Touit     32          32.0       1.8     720   \n",
      "39     E    Zeiss Touit     50          50.0       2.8     999   \n",
      "40     E          Sigma     16          16.0       1.4     449   \n",
      "41     E          Sigma     19          19.0       2.8     199   \n",
      "42     E          Sigma     30          30.0       1.4     339   \n",
      "43     E          Sigma     30          30.0       2.8     199   \n",
      "44     E          Sigma     60          60.0       2.8     239   \n",
      "\n",
      "                                Notes  \n",
      "0   adaptors: fisheye $298, 21mm $248  \n",
      "1                                 NaN  \n",
      "2                               macro  \n",
      "3                                 NaN  \n",
      "4                               macro  \n",
      "5                                 NaN  \n",
      "6                                 NaN  \n",
      "7                     avail Sept 2018  \n",
      "8                                 NaN  \n",
      "9                                 NaN  \n",
      "10                                NaN  \n",
      "11                                NaN  \n",
      "12                                NaN  \n",
      "13                                NaN  \n",
      "14                                NaN  \n",
      "15                                NaN  \n",
      "16                                NaN  \n",
      "17                                NaN  \n",
      "18                                NaN  \n",
      "19                                NaN  \n",
      "20                                NaN  \n",
      "21                                TBD  \n",
      "22                                TBD  \n",
      "23                                TBD  \n",
      "24                                TBD  \n",
      "25                                TBD  \n",
      "26                          TBD macro  \n",
      "27                                TBD  \n",
      "28                                TBD  \n",
      "29                                TBD  \n",
      "30                              43221  \n",
      "31                                NaN  \n",
      "32                                NaN  \n",
      "33                              macro  \n",
      "34                                NaN  \n",
      "35                                NaN  \n",
      "36                                NaN  \n",
      "37                                NaN  \n",
      "38                                NaN  \n",
      "39                                NaN  \n",
      "40                                NaN  \n",
      "41                                NaN  \n",
      "42                                NaN  \n",
      "43                                NaN  \n",
      "44                                NaN  \n"
     ]
    }
   ],
   "source": [
    "print(lenses)"
   ]
  },
  {
   "cell_type": "code",
   "execution_count": 15,
   "metadata": {},
   "outputs": [
    {
     "data": {
      "text/plain": [
       "(1.0, 4)"
      ]
     },
     "execution_count": 15,
     "metadata": {},
     "output_type": "execute_result"
    },
    {
     "data": {
      "image/png": "[encoded data removed]",
      "text/plain": [
       "<matplotlib.figure.Figure at 0x7f4c67a7eb38>"
      ]
     },
     "metadata": {},
     "output_type": "display_data"
    }
   ],
   "source": [
    "ax = sns.scatterplot(x='Focal Length', y='Aperture', hue = 'Brand', size='Retail', sizes = (100,400), data = lenses)\n",
    "ax.set(xscale='log')\n",
    "ax.invert_yaxis()\n",
    "ax.legend(loc = 'center right', bbox_to_anchor = (1.5, 0.5), ncol = 1)\n",
    "ax.set_ylim(1.0,4)"
   ]
  }
 ],
 "metadata": {
  "kernelspec": {
   "display_name": "Python 3",
   "language": "python",
   "name": "python3"
  },
  "language_info": {
   "codemirror_mode": {
    "name": "ipython",
    "version": 3
   },
   "file_extension": ".py",
   "mimetype": "text/x-python",
   "name": "python",
   "nbconvert_exporter": "python",
   "pygments_lexer": "ipython3",
   "version": "3.5.2"
  }
 },
 "nbformat": 4,
 "nbformat_minor": 2
}
